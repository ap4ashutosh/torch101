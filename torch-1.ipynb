{
  "nbformat": 4,
  "nbformat_minor": 0,
  "metadata": {
    "colab": {
      "provenance": [],
      "authorship_tag": "ABX9TyMF+3msZLr4gI6uZaSld2JL",
      "include_colab_link": true
    },
    "kernelspec": {
      "name": "python3",
      "display_name": "Python 3"
    },
    "language_info": {
      "name": "python"
    }
  },
  "cells": [
    {
      "cell_type": "markdown",
      "metadata": {
        "id": "view-in-github",
        "colab_type": "text"
      },
      "source": [
        "<a href=\"https://colab.research.google.com/github/ap4ashutosh/torch101/blob/main/torch-1.ipynb\" target=\"_parent\"><img src=\"https://colab.research.google.com/assets/colab-badge.svg\" alt=\"Open In Colab\"/></a>"
      ]
    },
    {
      "cell_type": "code",
      "execution_count": 9,
      "metadata": {
        "colab": {
          "base_uri": "https://localhost:8080/",
          "height": 36
        },
        "id": "UqThZ6UTli6d",
        "outputId": "64d4798e-9aa4-4687-a7b8-ef2420023c78"
      },
      "outputs": [
        {
          "output_type": "execute_result",
          "data": {
            "text/plain": [
              "'2.4.0+cu121'"
            ],
            "application/vnd.google.colaboratory.intrinsic+json": {
              "type": "string"
            }
          },
          "metadata": {},
          "execution_count": 9
        }
      ],
      "source": [
        "import torch\n",
        "from torch import nn\n",
        "\n",
        "from matplotlib import pyplot as plt\n",
        "\n",
        "# torch version\n",
        "torch.__version__"
      ]
    },
    {
      "cell_type": "code",
      "source": [
        "# Data (Loading and preparing)\n",
        "# Create known parameters for\n",
        "w = 0.7\n",
        "b = 0.29\n",
        "\n",
        "# create\n",
        "start = 0\n",
        "end = 1\n",
        "step = 0.02\n",
        "x = torch.arange(start, end, step).unsqueeze(dim=1)\n",
        "y = w * x + b\n",
        "\n",
        "x[:10], y[:10], len(x), len(y)"
      ],
      "metadata": {
        "colab": {
          "base_uri": "https://localhost:8080/"
        },
        "id": "M2-Je3JjmSJT",
        "outputId": "e30121ba-62c8-4d35-86c0-9c89b8235fea"
      },
      "execution_count": 10,
      "outputs": [
        {
          "output_type": "execute_result",
          "data": {
            "text/plain": [
              "(tensor([[0.0000],\n",
              "         [0.0200],\n",
              "         [0.0400],\n",
              "         [0.0600],\n",
              "         [0.0800],\n",
              "         [0.1000],\n",
              "         [0.1200],\n",
              "         [0.1400],\n",
              "         [0.1600],\n",
              "         [0.1800]]),\n",
              " tensor([[0.2900],\n",
              "         [0.3040],\n",
              "         [0.3180],\n",
              "         [0.3320],\n",
              "         [0.3460],\n",
              "         [0.3600],\n",
              "         [0.3740],\n",
              "         [0.3880],\n",
              "         [0.4020],\n",
              "         [0.4160]]),\n",
              " 50,\n",
              " 50)"
            ]
          },
          "metadata": {},
          "execution_count": 10
        }
      ]
    },
    {
      "cell_type": "code",
      "source": [
        "from sklearn.model_selection import train_test_split as tts\n",
        "\n",
        "# train validation and test split\n",
        "(x_train, x_test, y_train, y_test) = tts(x, y, test_size=0.2)"
      ],
      "metadata": {
        "id": "1Vmm48Asnpna"
      },
      "execution_count": 11,
      "outputs": []
    },
    {
      "cell_type": "code",
      "source": [
        "len(x_train), len(x_test)"
      ],
      "metadata": {
        "colab": {
          "base_uri": "https://localhost:8080/"
        },
        "id": "b9OeuU4UoNtP",
        "outputId": "9ce25331-6934-43b9-d906-4e8625855f30"
      },
      "execution_count": 12,
      "outputs": [
        {
          "output_type": "execute_result",
          "data": {
            "text/plain": [
              "(40, 10)"
            ]
          },
          "metadata": {},
          "execution_count": 12
        }
      ]
    },
    {
      "cell_type": "code",
      "source": [
        "# visualization\n",
        "def plot_predictions(train_data = x_train, train_labels = y_train, test_data = x_test, test_labels = y_test, predictions = None):\n",
        "    plt.style.use('dark_background')  # Set dark background style\n",
        "    plt.figure(figsize=(10, 7))\n",
        "\n",
        "    # Plot the training data\n",
        "    plt.scatter(train_data, train_labels, c='b', s=4, label='training data')\n",
        "\n",
        "    # Plot the testing data\n",
        "    plt.scatter(test_data, test_labels, c='r', s=4, label='testing data')\n",
        "\n",
        "    # Plot the predictions, if provided\n",
        "    if predictions is not None:\n",
        "        plt.scatter(test_data, predictions, c='g', s=4, label='predictions')\n",
        "\n",
        "    # Display legend\n",
        "    plt.legend(prop={'size': 12})\n",
        "\n",
        "    # Show the plot\n",
        "    plt.show()"
      ],
      "metadata": {
        "id": "WjNqc_vMpZI4"
      },
      "execution_count": 13,
      "outputs": []
    },
    {
      "cell_type": "code",
      "source": [
        "plot_predictions(x_train, y_train, x_test, y_test)"
      ],
      "metadata": {
        "colab": {
          "base_uri": "https://localhost:8080/",
          "height": 471
        },
        "id": "YCFFqNJDqB_n",
        "outputId": "f6a23790-9358-492b-eb68-44456585f42f"
      },
      "execution_count": 14,
      "outputs": [
        {
          "output_type": "display_data",
          "data": {
            "text/plain": [
              "<Figure size 1000x700 with 1 Axes>"
            ],
            "image/png": "[encoded data removed]"
          },
          "metadata": {}
        }
      ]
    },
    {
      "cell_type": "code",
      "source": [
        "import pydantic"
      ],
      "metadata": {
        "id": "elmFOjw5qidp"
      },
      "execution_count": 15,
      "outputs": []
    },
    {
      "cell_type": "code",
      "source": [
        "# Build model to predict on test data\n",
        "# creating a linear regression\n",
        "\n",
        "class LinearRegressionModel(nn.module):\n",
        "  # almost everything in pytorch inherits from nn.modules\n",
        "  def __init__(self):\n",
        "    super().__init__()\n",
        "    self.w = nn.Parameter(torch.randn(1, requires_grad = True, dtype = torch.float))\n",
        "    self.b = nn.Parameter(torch.randn(1, requires_grad = True, dtype = torch.float))\n",
        "\n",
        "  # forward method for computation\n",
        "  @pydantic.validator\n",
        "  def forward(self, x: torch.Tensor) -> torch.Tensor:\n",
        "    return self.w * x + self.b\n"
      ],
      "metadata": {
        "id": "0R_2ISdqqSiM"
      },
      "execution_count": 14,
      "outputs": []
    },
    {
      "cell_type": "markdown",
      "source": [
        "```python\n",
        "class LinearRegressionModel(nn.module):\n",
        "```\n",
        "Subclass of nn.module. This contains all the building blocks of neural networks so to create our own neural network this shoulda subclass of `nn.module`\n",
        "\n",
        "```python\n",
        "self.w = nn.Parameter(torch.randn(1,\n",
        "                                  requires_grad = True,\n",
        "                                  dtype = torch.float))\n",
        "```\n",
        "`requires_grad = True` means Pytorch will track the gradients of this specific parameter for use with `torch.autograd` and gradient descent (for many *torch.nn* modules, `requires_grad = True` is set default.\n",
        "\n",
        "```python\n",
        "def forward(self, x):\n",
        "  return self.w * x + self.b\n",
        "```\n",
        "Any subclass of `nn.modules` requires a `forward` method to override the original one. This defines the operation to be happen"
      ],
      "metadata": {
        "id": "3bA5KJm4x-_A"
      }
    },
    {
      "cell_type": "code",
      "source": [],
      "metadata": {
        "id": "qonhJKobzawb"
      },
      "execution_count": null,
      "outputs": []
    }
  ]
}